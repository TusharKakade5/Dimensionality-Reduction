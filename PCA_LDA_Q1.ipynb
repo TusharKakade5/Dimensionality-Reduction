{
 "cells": [
  {
   "cell_type": "code",
   "execution_count": 28,
   "metadata": {},
   "outputs": [],
   "source": [
    "from sklearn.datasets import load_wine\n",
    "import pandas as pd\n",
    "import numpy as np\n",
    "np.set_printoptions(precision=4)\n",
    "from matplotlib import pyplot as plt\n",
    "import seaborn as sns\n",
    "sns.set()\n",
    "from sklearn.preprocessing import LabelEncoder\n",
    "from sklearn.tree import DecisionTreeClassifier\n",
    "from sklearn.model_selection import train_test_split\n",
    "from sklearn.metrics import confusion_matrix"
   ]
  },
  {
   "cell_type": "code",
   "execution_count": 29,
   "metadata": {},
   "outputs": [
    {
     "name": "stdout",
     "output_type": "stream",
     "text": [
      "     alcohol  malic_acid   ash  alcalinity_of_ash  magnesium  total_phenols  \\\n",
      "0      14.23        1.71  2.43               15.6      127.0           2.80   \n",
      "1      13.20        1.78  2.14               11.2      100.0           2.65   \n",
      "2      13.16        2.36  2.67               18.6      101.0           2.80   \n",
      "3      14.37        1.95  2.50               16.8      113.0           3.85   \n",
      "4      13.24        2.59  2.87               21.0      118.0           2.80   \n",
      "..       ...         ...   ...                ...        ...            ...   \n",
      "173    13.71        5.65  2.45               20.5       95.0           1.68   \n",
      "174    13.40        3.91  2.48               23.0      102.0           1.80   \n",
      "175    13.27        4.28  2.26               20.0      120.0           1.59   \n",
      "176    13.17        2.59  2.37               20.0      120.0           1.65   \n",
      "177    14.13        4.10  2.74               24.5       96.0           2.05   \n",
      "\n",
      "     flavanoids  nonflavanoid_phenols  proanthocyanins  color_intensity   hue  \\\n",
      "0          3.06                  0.28             2.29             5.64  1.04   \n",
      "1          2.76                  0.26             1.28             4.38  1.05   \n",
      "2          3.24                  0.30             2.81             5.68  1.03   \n",
      "3          3.49                  0.24             2.18             7.80  0.86   \n",
      "4          2.69                  0.39             1.82             4.32  1.04   \n",
      "..          ...                   ...              ...              ...   ...   \n",
      "173        0.61                  0.52             1.06             7.70  0.64   \n",
      "174        0.75                  0.43             1.41             7.30  0.70   \n",
      "175        0.69                  0.43             1.35            10.20  0.59   \n",
      "176        0.68                  0.53             1.46             9.30  0.60   \n",
      "177        0.76                  0.56             1.35             9.20  0.61   \n",
      "\n",
      "     od280/od315_of_diluted_wines  proline  \n",
      "0                            3.92   1065.0  \n",
      "1                            3.40   1050.0  \n",
      "2                            3.17   1185.0  \n",
      "3                            3.45   1480.0  \n",
      "4                            2.93    735.0  \n",
      "..                            ...      ...  \n",
      "173                          1.74    740.0  \n",
      "174                          1.56    750.0  \n",
      "175                          1.56    835.0  \n",
      "176                          1.62    840.0  \n",
      "177                          1.60    560.0  \n",
      "\n",
      "[178 rows x 13 columns]\n"
     ]
    }
   ],
   "source": [
    "wine = load_wine()\n",
    "X = pd.DataFrame(wine.data, columns=wine.feature_names)\n",
    "y = pd.Categorical.from_codes(wine.target, wine.target_names)\n",
    "\n",
    "X.head()\n",
    "print(X)"
   ]
  },
  {
   "cell_type": "markdown",
   "metadata": {},
   "source": [
    "Linear Discriminant Analysis"
   ]
  },
  {
   "cell_type": "code",
   "execution_count": 35,
   "metadata": {},
   "outputs": [
    {
     "name": "stdout",
     "output_type": "stream",
     "text": [
      "     alcohol  malic_acid   ash  alcalinity_of_ash  magnesium  total_phenols  \\\n",
      "0      14.23        1.71  2.43               15.6      127.0           2.80   \n",
      "1      13.20        1.78  2.14               11.2      100.0           2.65   \n",
      "2      13.16        2.36  2.67               18.6      101.0           2.80   \n",
      "3      14.37        1.95  2.50               16.8      113.0           3.85   \n",
      "4      13.24        2.59  2.87               21.0      118.0           2.80   \n",
      "..       ...         ...   ...                ...        ...            ...   \n",
      "173    13.71        5.65  2.45               20.5       95.0           1.68   \n",
      "174    13.40        3.91  2.48               23.0      102.0           1.80   \n",
      "175    13.27        4.28  2.26               20.0      120.0           1.59   \n",
      "176    13.17        2.59  2.37               20.0      120.0           1.65   \n",
      "177    14.13        4.10  2.74               24.5       96.0           2.05   \n",
      "\n",
      "     flavanoids  nonflavanoid_phenols  proanthocyanins  color_intensity   hue  \\\n",
      "0          3.06                  0.28             2.29             5.64  1.04   \n",
      "1          2.76                  0.26             1.28             4.38  1.05   \n",
      "2          3.24                  0.30             2.81             5.68  1.03   \n",
      "3          3.49                  0.24             2.18             7.80  0.86   \n",
      "4          2.69                  0.39             1.82             4.32  1.04   \n",
      "..          ...                   ...              ...              ...   ...   \n",
      "173        0.61                  0.52             1.06             7.70  0.64   \n",
      "174        0.75                  0.43             1.41             7.30  0.70   \n",
      "175        0.69                  0.43             1.35            10.20  0.59   \n",
      "176        0.68                  0.53             1.46             9.30  0.60   \n",
      "177        0.76                  0.56             1.35             9.20  0.61   \n",
      "\n",
      "     od280/od315_of_diluted_wines  proline    class  \n",
      "0                            3.92   1065.0  class_0  \n",
      "1                            3.40   1050.0  class_0  \n",
      "2                            3.17   1185.0  class_0  \n",
      "3                            3.45   1480.0  class_0  \n",
      "4                            2.93    735.0  class_0  \n",
      "..                            ...      ...      ...  \n",
      "173                          1.74    740.0  class_2  \n",
      "174                          1.56    750.0  class_2  \n",
      "175                          1.56    835.0  class_2  \n",
      "176                          1.62    840.0  class_2  \n",
      "177                          1.60    560.0  class_2  \n",
      "\n",
      "[178 rows x 14 columns]\n"
     ]
    },
    {
     "data": {
      "text/html": [
       "<div>\n",
       "<style scoped>\n",
       "    .dataframe tbody tr th:only-of-type {\n",
       "        vertical-align: middle;\n",
       "    }\n",
       "\n",
       "    .dataframe tbody tr th {\n",
       "        vertical-align: top;\n",
       "    }\n",
       "\n",
       "    .dataframe thead th {\n",
       "        text-align: right;\n",
       "    }\n",
       "</style>\n",
       "<table border=\"1\" class=\"dataframe\">\n",
       "  <thead>\n",
       "    <tr style=\"text-align: right;\">\n",
       "      <th></th>\n",
       "      <th>class_0</th>\n",
       "      <th>class_1</th>\n",
       "      <th>class_2</th>\n",
       "    </tr>\n",
       "  </thead>\n",
       "  <tbody>\n",
       "    <tr>\n",
       "      <th>alcohol</th>\n",
       "      <td>13.744746</td>\n",
       "      <td>12.278732</td>\n",
       "      <td>13.153750</td>\n",
       "    </tr>\n",
       "    <tr>\n",
       "      <th>malic_acid</th>\n",
       "      <td>2.010678</td>\n",
       "      <td>1.932676</td>\n",
       "      <td>3.333750</td>\n",
       "    </tr>\n",
       "    <tr>\n",
       "      <th>ash</th>\n",
       "      <td>2.455593</td>\n",
       "      <td>2.244789</td>\n",
       "      <td>2.437083</td>\n",
       "    </tr>\n",
       "    <tr>\n",
       "      <th>alcalinity_of_ash</th>\n",
       "      <td>17.037288</td>\n",
       "      <td>20.238028</td>\n",
       "      <td>21.416667</td>\n",
       "    </tr>\n",
       "    <tr>\n",
       "      <th>magnesium</th>\n",
       "      <td>106.338983</td>\n",
       "      <td>94.549296</td>\n",
       "      <td>99.312500</td>\n",
       "    </tr>\n",
       "    <tr>\n",
       "      <th>total_phenols</th>\n",
       "      <td>2.840169</td>\n",
       "      <td>2.258873</td>\n",
       "      <td>1.678750</td>\n",
       "    </tr>\n",
       "    <tr>\n",
       "      <th>flavanoids</th>\n",
       "      <td>2.982373</td>\n",
       "      <td>2.080845</td>\n",
       "      <td>0.781458</td>\n",
       "    </tr>\n",
       "    <tr>\n",
       "      <th>nonflavanoid_phenols</th>\n",
       "      <td>0.290000</td>\n",
       "      <td>0.363662</td>\n",
       "      <td>0.447500</td>\n",
       "    </tr>\n",
       "    <tr>\n",
       "      <th>proanthocyanins</th>\n",
       "      <td>1.899322</td>\n",
       "      <td>1.630282</td>\n",
       "      <td>1.153542</td>\n",
       "    </tr>\n",
       "    <tr>\n",
       "      <th>color_intensity</th>\n",
       "      <td>5.528305</td>\n",
       "      <td>3.086620</td>\n",
       "      <td>7.396250</td>\n",
       "    </tr>\n",
       "    <tr>\n",
       "      <th>hue</th>\n",
       "      <td>1.062034</td>\n",
       "      <td>1.056282</td>\n",
       "      <td>0.682708</td>\n",
       "    </tr>\n",
       "    <tr>\n",
       "      <th>od280/od315_of_diluted_wines</th>\n",
       "      <td>3.157797</td>\n",
       "      <td>2.785352</td>\n",
       "      <td>1.683542</td>\n",
       "    </tr>\n",
       "    <tr>\n",
       "      <th>proline</th>\n",
       "      <td>1115.711864</td>\n",
       "      <td>519.507042</td>\n",
       "      <td>629.895833</td>\n",
       "    </tr>\n",
       "  </tbody>\n",
       "</table>\n",
       "</div>"
      ],
      "text/plain": [
       "                                  class_0     class_1     class_2\n",
       "alcohol                         13.744746   12.278732   13.153750\n",
       "malic_acid                       2.010678    1.932676    3.333750\n",
       "ash                              2.455593    2.244789    2.437083\n",
       "alcalinity_of_ash               17.037288   20.238028   21.416667\n",
       "magnesium                      106.338983   94.549296   99.312500\n",
       "total_phenols                    2.840169    2.258873    1.678750\n",
       "flavanoids                       2.982373    2.080845    0.781458\n",
       "nonflavanoid_phenols             0.290000    0.363662    0.447500\n",
       "proanthocyanins                  1.899322    1.630282    1.153542\n",
       "color_intensity                  5.528305    3.086620    7.396250\n",
       "hue                              1.062034    1.056282    0.682708\n",
       "od280/od315_of_diluted_wines     3.157797    2.785352    1.683542\n",
       "proline                       1115.711864  519.507042  629.895833"
      ]
     },
     "execution_count": 35,
     "metadata": {},
     "output_type": "execute_result"
    }
   ],
   "source": [
    "df = X.join(pd.Series(y, name='class'))\n",
    "print(df)\n",
    "class_feature_means = pd.DataFrame(columns=wine.target_names)\n",
    "for c, rows in df.groupby('class'):\n",
    "    class_feature_means[c] = rows.mean()\n",
    "class_feature_means"
   ]
  },
  {
   "cell_type": "code",
   "execution_count": 37,
   "metadata": {},
   "outputs": [
    {
     "data": {
      "text/plain": [
       "(13, 13)"
      ]
     },
     "execution_count": 37,
     "metadata": {},
     "output_type": "execute_result"
    }
   ],
   "source": [
    "within_class_scatter_matrix = np.zeros((13,13))\n",
    "for c, rows in df.groupby('class'):\n",
    "    rows = rows.drop(['class'], axis=1)\n",
    "    s = np.zeros((13,13))\n",
    "    for index, row in rows.iterrows():\n",
    "        x, mc = row.values.reshape(13,1), class_feature_means[c].values.reshape(13,1)\n",
    "        s += (x - mc).dot((x - mc).T)\n",
    "    within_class_scatter_matrix += s\n",
    "within_class_scatter_matrix.shape"
   ]
  },
  {
   "cell_type": "code",
   "execution_count": 38,
   "metadata": {},
   "outputs": [
    {
     "data": {
      "text/plain": [
       "(13, 13)"
      ]
     },
     "execution_count": 38,
     "metadata": {},
     "output_type": "execute_result"
    }
   ],
   "source": [
    "feature_means = df.mean()\n",
    "between_class_scatter_matrix = np.zeros((13,13))\n",
    "for c in class_feature_means:    \n",
    "    n = len(df.loc[df['class'] == c].index) \n",
    "    mc, m = class_feature_means[c].values.reshape(13,1), feature_means.values.reshape(13,1)\n",
    "    between_class_scatter_matrix += n*((mc - m).dot((mc - m).T))\n",
    "between_class_scatter_matrix.shape"
   ]
  },
  {
   "cell_type": "code",
   "execution_count": 39,
   "metadata": {},
   "outputs": [],
   "source": [
    "eigen_values, eigen_vectors = np.linalg.eig((np.linalg.inv(within_class_scatter_matrix)).dot(between_class_scatter_matrix))"
   ]
  },
  {
   "cell_type": "code",
   "execution_count": 40,
   "metadata": {},
   "outputs": [
    {
     "name": "stdout",
     "output_type": "stream",
     "text": [
      "9.081739435042472\n",
      "4.128469045639484\n",
      "8.881784197001252e-16\n",
      "7.41949604398113e-16\n",
      "7.41949604398113e-16\n",
      "6.57104310784389e-16\n",
      "6.57104310784389e-16\n",
      "2.9039090283069212e-16\n",
      "2.9039090283069212e-16\n",
      "2.58525572226227e-16\n",
      "6.126103277916086e-17\n",
      "6.126103277916086e-17\n",
      "4.86945776983596e-17\n"
     ]
    }
   ],
   "source": [
    "pairs = [(np.abs(eigen_values[i]), eigen_vectors[:,i]) for i in range(len(eigen_values))]\n",
    "pairs = sorted(pairs, key=lambda x: x[0], reverse=True)\n",
    "for pair in pairs:\n",
    "    print(pair[0])"
   ]
  },
  {
   "cell_type": "code",
   "execution_count": 42,
   "metadata": {},
   "outputs": [
    {
     "data": {
      "text/plain": [
       "(13, 2)"
      ]
     },
     "execution_count": 42,
     "metadata": {},
     "output_type": "execute_result"
    }
   ],
   "source": [
    "w_matrix = np.hstack((pairs[0][1].reshape(13,1), pairs[1][1].reshape(13,1))).real\n",
    "w_matrix.shape"
   ]
  },
  {
   "cell_type": "code",
   "execution_count": 43,
   "metadata": {},
   "outputs": [
    {
     "name": "stdout",
     "output_type": "stream",
     "text": [
      "(178, 2)\n"
     ]
    },
    {
     "data": {
      "text/plain": [
       "<matplotlib.collections.PathCollection at 0x25bdbd91790>"
      ]
     },
     "execution_count": 43,
     "metadata": {},
     "output_type": "execute_result"
    },
    {
     "data": {
      "image/png": "[encoded data removed]",
      "text/plain": [
       "<Figure size 432x288 with 1 Axes>"
      ]
     },
     "metadata": {},
     "output_type": "display_data"
    }
   ],
   "source": [
    "X_lda = np.array(X.dot(w_matrix))\n",
    "print(X_lda.shape)\n",
    "le = LabelEncoder()\n",
    "y = le.fit_transform(df['class'])\n",
    "plt.xlabel('LD1')\n",
    "plt.ylabel('LD2')\n",
    "plt.scatter(\n",
    "    X_lda[:,0],\n",
    "    X_lda[:,1],\n",
    "    c=y,\n",
    "    cmap='rainbow',\n",
    "    alpha=0.7,\n",
    "    edgecolors='b'\n",
    ")"
   ]
  },
  {
   "cell_type": "markdown",
   "metadata": {},
   "source": [
    "Principal Component Ananlysis"
   ]
  },
  {
   "cell_type": "code",
   "execution_count": 44,
   "metadata": {},
   "outputs": [
    {
     "data": {
      "text/plain": [
       "(178, 13)"
      ]
     },
     "execution_count": 44,
     "metadata": {},
     "output_type": "execute_result"
    }
   ],
   "source": [
    "meanmat1=np.mean(X,axis=0)\n",
    "subs1=X-meanmat1\n",
    "subs1.shape"
   ]
  },
  {
   "cell_type": "code",
   "execution_count": 45,
   "metadata": {},
   "outputs": [
    {
     "data": {
      "text/plain": [
       "array([[ 6.5536e-01,  8.5130e-02,  4.6850e-02, -8.3637e-01,  3.1222e+00,\n",
       "         1.4606e-01,  1.9095e-01, -1.5666e-02,  6.3161e-02,  1.0225e+00,\n",
       "        -1.3239e-02,  4.1464e-02,  1.6364e+02],\n",
       "       [ 8.5130e-02,  1.2410e+00,  4.9995e-02,  1.0703e+00, -8.6589e-01,\n",
       "        -2.3302e-01, -4.5605e-01,  4.0505e-02, -1.4035e-01,  6.4122e-01,\n",
       "        -1.4252e-01, -2.9080e-01, -6.7169e+01],\n",
       "       [ 4.6850e-02,  4.9995e-02,  7.4842e-02,  4.0393e-01,  1.1166e+00,\n",
       "         2.2021e-02,  3.1358e-02,  6.3227e-03,  1.5071e-03,  1.6373e-01,\n",
       "        -4.6559e-03,  7.5756e-04,  1.9211e+01],\n",
       "       [-8.3637e-01,  1.0703e+00,  4.0393e-01,  1.1090e+01, -3.9524e+00,\n",
       "        -6.6738e-01, -1.1655e+00,  1.4958e-01, -3.7506e-01,  1.4421e-01,\n",
       "        -2.0794e-01, -6.5255e-01, -4.6075e+02],\n",
       "       [ 3.1222e+00, -8.6589e-01,  1.1166e+00, -3.9524e+00,  2.0284e+02,\n",
       "         1.9057e+00,  2.7774e+00, -4.5300e-01,  1.9220e+00,  6.5833e+00,\n",
       "         1.7984e-01,  6.6555e-01,  1.7592e+03],\n",
       "       [ 1.4606e-01, -2.3302e-01,  2.2021e-02, -6.6738e-01,  1.9057e+00,\n",
       "         3.8949e-01,  5.3743e-01, -3.4848e-02,  2.1814e-01, -7.9548e-02,\n",
       "         6.1690e-02,  3.0927e-01,  9.7620e+01],\n",
       "       [ 1.9095e-01, -4.5605e-01,  3.1358e-02, -1.1655e+00,  2.7774e+00,\n",
       "         5.3743e-01,  9.9211e-01, -6.6491e-02,  3.7105e-01, -3.9693e-01,\n",
       "         1.2338e-01,  5.5513e-01,  1.5457e+02],\n",
       "       [-1.5666e-02,  4.0505e-02,  6.3227e-03,  1.4958e-01, -4.5300e-01,\n",
       "        -3.4848e-02, -6.6491e-02,  1.5402e-02, -2.5913e-02,  3.9895e-02,\n",
       "        -7.4292e-03, -4.4219e-02, -1.2135e+01],\n",
       "       [ 6.3161e-02, -1.4035e-01,  1.5071e-03, -3.7506e-01,  1.9220e+00,\n",
       "         2.1814e-01,  3.7105e-01, -2.5913e-02,  3.2575e-01, -3.3316e-02,\n",
       "         3.8447e-02,  2.0975e-01,  5.9220e+01],\n",
       "       [ 1.0225e+00,  6.4122e-01,  1.6373e-01,  1.4421e-01,  6.5833e+00,\n",
       "        -7.9548e-02, -3.9693e-01,  3.9895e-02, -3.3316e-02,  5.3443e+00,\n",
       "        -2.7495e-01, -7.0185e-01,  2.2947e+02],\n",
       "       [-1.3239e-02, -1.4252e-01, -4.6559e-03, -2.0794e-01,  1.7984e-01,\n",
       "         6.1690e-02,  1.2338e-01, -7.4292e-03,  3.8447e-02, -2.7495e-01,\n",
       "         5.1951e-02,  9.1251e-02,  1.6905e+01],\n",
       "       [ 4.1464e-02, -2.9080e-01,  7.5756e-04, -6.5255e-01,  6.6555e-01,\n",
       "         3.0927e-01,  5.5513e-01, -4.4219e-02,  2.0975e-01, -7.0185e-01,\n",
       "         9.1251e-02,  5.0125e-01,  6.9535e+01],\n",
       "       [ 1.6364e+02, -6.7169e+01,  1.9211e+01, -4.6075e+02,  1.7592e+03,\n",
       "         9.7620e+01,  1.5457e+02, -1.2135e+01,  5.9220e+01,  2.2947e+02,\n",
       "         1.6905e+01,  6.9535e+01,  9.8610e+04]])"
      ]
     },
     "execution_count": 45,
     "metadata": {},
     "output_type": "execute_result"
    }
   ],
   "source": [
    "covm=np.dot(subs1.T,subs1)\n",
    "cov1=covm/X.shape[0]\n",
    "cov1"
   ]
  },
  {
   "cell_type": "code",
   "execution_count": 46,
   "metadata": {},
   "outputs": [
    {
     "name": "stdout",
     "output_type": "stream",
     "text": [
      "[9.8644e+04 1.7157e+02 9.3851e+00 4.9631e+00 1.2219e+00 8.3634e-01\n",
      " 2.7741e-01 1.5053e-01 1.1147e-01 8.1576e-03 2.0954e-02 3.7365e-02\n",
      " 7.1300e-02]\n",
      "[[-1.6593e-03 -1.2034e-03]\n",
      " [ 6.8102e-04 -2.1550e-03]\n",
      " [-1.9491e-04 -4.5937e-03]\n",
      " [ 4.6713e-03 -2.6450e-02]\n",
      " [-1.7868e-02 -9.9934e-01]\n",
      " [-9.8983e-04 -8.7796e-04]\n",
      " [-1.5673e-03  5.1851e-05]\n",
      " [ 1.2309e-04  1.3545e-03]\n",
      " [-6.0061e-04 -5.0044e-03]\n",
      " [-2.3271e-03 -1.5100e-02]\n",
      " [-1.7138e-04  7.6267e-04]\n",
      " [-7.0493e-04  3.4954e-03]\n",
      " [-9.9982e-01  1.7774e-02]]\n"
     ]
    }
   ],
   "source": [
    "eig1,eigv1=np.linalg.eig(cov1)\n",
    "result=np.dot(X,eigv1)\n",
    "eigv1_1=eigv1[:,[0,1]] \n",
    "print(eig1)\n",
    "print(eigv1_1)"
   ]
  },
  {
   "cell_type": "code",
   "execution_count": 47,
   "metadata": {},
   "outputs": [
    {
     "data": {
      "text/plain": [
       "array([[-1067.0557,  -108.5163],\n",
       "       [-1051.5901,   -81.6594],\n",
       "       [-1186.5538,   -80.4868],\n",
       "       [-1481.7328,   -87.2169],\n",
       "       [ -736.9213,  -105.5141],\n",
       "       [-1451.7239,   -86.692 ],\n",
       "       [-1291.4643,   -73.5052],\n",
       "       [-1296.8946,   -98.4736],\n",
       "       [-1046.5296,   -78.844 ],\n",
       "       [-1046.5423,   -79.9226],\n",
       "       [-1511.5724,   -78.6898],\n",
       "       [-1281.4359,   -72.7365],\n",
       "       [-1321.3271,   -66.0191],\n",
       "       [-1151.4181,   -70.9215],\n",
       "       [-1548.5461,   -74.9057],\n",
       "       [-1311.7383,   -89.239 ],\n",
       "       [-1281.8724,   -97.8289],\n",
       "       [-1131.8103,   -95.5015],\n",
       "       [-1681.6111,   -78.6696],\n",
       "       [ -846.8959,  -101.4168],\n",
       "       [ -782.0863,  -112.5921],\n",
       "       [ -771.6391,   -88.8416],\n",
       "       [-1036.5857,   -83.0611],\n",
       "       [-1016.4742,   -77.4534],\n",
       "       [ -846.5126,   -81.5283],\n",
       "       [ -831.9915,  -109.9157],\n",
       "       [-1196.4183,   -72.2268],\n",
       "       [-1286.4119,   -71.6358],\n",
       "       [ -916.7032,   -91.2794],\n",
       "       [-1036.501 ,   -78.0644],\n",
       "       [-1286.5192,   -78.8114],\n",
       "       [-1516.5856,   -79.6442],\n",
       "       [ -991.6435,   -86.8802],\n",
       "       [-1237.094 ,  -110.5894],\n",
       "       [-1096.7237,   -91.0622],\n",
       "       [ -921.5727,   -84.2312],\n",
       "       [ -881.7791,   -94.7969],\n",
       "       [-1106.5113,   -78.8661],\n",
       "       [-1021.5371,   -80.299 ],\n",
       "       [ -762.1357,  -114.871 ],\n",
       "       [ -796.9224,  -103.3461],\n",
       "       [-1036.3768,   -72.139 ],\n",
       "       [-1096.5881,   -81.9807],\n",
       "       [ -681.6781,   -91.409 ],\n",
       "       [ -886.7197,   -91.7548],\n",
       "       [-1081.7475,   -92.3435],\n",
       "       [-1066.6046,   -83.5372],\n",
       "       [ -986.6042,   -83.9726],\n",
       "       [-1061.6126,   -84.7188],\n",
       "       [-1261.6805,   -86.1604],\n",
       "       [-1151.4317,   -71.9708],\n",
       "       [-1266.4217,   -72.0266],\n",
       "       [-1191.7591,   -90.2846],\n",
       "       [-1376.7788,   -91.0653],\n",
       "       [-1061.8903,   -99.633 ],\n",
       "       [-1121.826 ,   -96.6883],\n",
       "       [ -971.9098,  -101.241 ],\n",
       "       [-1271.5656,   -79.9275],\n",
       "       [-1286.6748,   -85.6673],\n",
       "       [ -521.46  ,   -79.0292],\n",
       "       [ -681.6426,   -89.344 ],\n",
       "       [ -451.6683,   -92.4926],\n",
       "       [ -631.5222,   -83.2977],\n",
       "       [ -421.4336,   -80.076 ],\n",
       "       [ -356.7402,   -98.1958],\n",
       "       [ -679.5869,   -86.4655],\n",
       "       [ -503.2802,   -69.5305],\n",
       "       [ -511.2513,   -69.4931],\n",
       "       [ -751.7889,   -97.1199],\n",
       "       [ -720.5266,  -138.6542],\n",
       "       [ -871.6228,   -88.084 ],\n",
       "       [ -411.3886,   -79.4003],\n",
       "       [ -473.3967,   -79.271 ],\n",
       "       [ -987.2095,  -122.276 ],\n",
       "       [ -887.5868,   -85.8166],\n",
       "       [ -429.6164,   -89.8349],\n",
       "       [ -393.4325,   -79.4934],\n",
       "       [ -501.8591,  -103.5826],\n",
       "       [ -752.2644,  -123.0552],\n",
       "       [ -464.6505,   -93.386 ],\n",
       "       [ -279.4334,   -81.5652],\n",
       "       [ -715.3614,   -73.837 ],\n",
       "       [ -631.2023,   -67.4455],\n",
       "       [ -516.3597,   -76.494 ],\n",
       "       [ -521.5394,   -85.2481],\n",
       "       [ -451.6406,   -91.4769],\n",
       "       [ -496.4463,   -81.8115],\n",
       "       [ -563.3839,   -78.7055],\n",
       "       [ -681.312 ,   -72.4994],\n",
       "       [ -626.0614,   -59.5201],\n",
       "       [ -481.3074,   -72.9702],\n",
       "       [ -451.3883,   -78.6091],\n",
       "       [ -496.2788,   -71.7726],\n",
       "       [ -291.4705,   -83.3268],\n",
       "       [ -346.6414,   -92.3555],\n",
       "       [ -939.6761,  -145.8179],\n",
       "       [ -627.2135,  -123.4416],\n",
       "       [ -429.4044,   -77.831 ],\n",
       "       [ -661.4124,   -76.7976],\n",
       "       [ -407.4518,   -81.2736],\n",
       "       [ -711.5611,   -84.8537],\n",
       "       [ -563.419 ,   -78.5036],\n",
       "       [ -439.6103,   -90.7758],\n",
       "       [ -416.4034,   -79.1404],\n",
       "       [ -673.3396,   -73.6103],\n",
       "       [ -316.483 ,   -84.9912],\n",
       "       [ -511.286 ,   -71.4622],\n",
       "       [ -489.3443,   -75.9453],\n",
       "       [ -313.5349,   -86.9646],\n",
       "       [ -681.502 ,   -82.4527],\n",
       "       [ -563.7563,   -97.5406],\n",
       "       [ -326.4498,   -82.7792],\n",
       "       [ -608.674 ,   -92.7597],\n",
       "       [ -435.4318,   -80.857 ],\n",
       "       [ -386.3631,   -77.7648],\n",
       "       [ -408.3777,   -78.3344],\n",
       "       [ -496.3832,   -77.7483],\n",
       "       [ -346.7967,  -102.45  ],\n",
       "       [ -373.3216,   -73.8391],\n",
       "       [ -565.3948,   -77.4706],\n",
       "       [ -626.5475,   -85.4352],\n",
       "       [ -466.9581,  -111.5324],\n",
       "       [ -366.6659,   -96.2132],\n",
       "       [ -381.4033,   -79.8359],\n",
       "       [ -381.3355,   -75.8278],\n",
       "       [ -379.3891,   -78.8483],\n",
       "       [ -353.4139,   -80.3443],\n",
       "       [ -467.4623,   -84.4883],\n",
       "       [ -343.4314,   -82.573 ],\n",
       "       [ -581.2551,   -70.2929],\n",
       "       [ -632.0197,  -111.2901],\n",
       "       [ -531.7082,   -95.1546],\n",
       "       [ -561.5776,   -88.7342],\n",
       "       [ -601.7232,   -95.9445],\n",
       "       [ -651.3597,   -73.9658],\n",
       "       [ -696.5107,   -82.2118],\n",
       "       [ -721.3948,   -76.7941],\n",
       "       [ -516.5412,   -87.559 ],\n",
       "       [ -581.4165,   -78.2674],\n",
       "       [ -591.6247,   -91.1873],\n",
       "       [ -601.5462,   -85.9274],\n",
       "       [ -781.397 ,   -75.7188],\n",
       "       [ -521.5665,   -88.4124],\n",
       "       [ -551.4884,   -82.7957],\n",
       "       [ -856.8054,   -97.3755],\n",
       "       [ -831.611 ,   -87.831 ],\n",
       "       [ -416.2969,   -73.2108],\n",
       "       [ -626.3666,   -75.5542],\n",
       "       [ -651.4733,   -81.1177],\n",
       "       [ -551.8679,  -103.8972],\n",
       "       [ -502.0435,  -114.8342],\n",
       "       [ -481.8639,  -104.1744],\n",
       "       [ -426.922 ,  -109.1885],\n",
       "       [ -676.595 ,   -86.6245],\n",
       "       [ -641.6761,   -92.2302],\n",
       "       [ -726.4725,   -80.7947],\n",
       "       [ -481.461 ,   -81.101 ],\n",
       "       [ -881.4925,   -82.1564],\n",
       "       [ -661.5787,   -87.1038],\n",
       "       [ -621.4314,   -78.7327],\n",
       "       [ -521.4239,   -79.4055],\n",
       "       [ -681.7373,   -95.4944],\n",
       "       [ -571.7276,   -96.4973],\n",
       "       [ -676.7243,   -94.5348],\n",
       "       [ -616.4445,   -79.7691],\n",
       "       [ -521.4149,   -79.4307],\n",
       "       [ -696.8032,   -99.3822],\n",
       "       [ -686.4077,   -76.4701],\n",
       "       [ -751.6755,   -92.4155],\n",
       "       [ -631.8179,  -101.5575],\n",
       "       [ -511.5715,   -87.4872],\n",
       "       [ -471.4091,   -78.2838],\n",
       "       [ -661.4653,   -79.9195],\n",
       "       [ -741.5125,   -82.483 ],\n",
       "       [ -751.6243,   -89.3593],\n",
       "       [ -836.9508,  -105.8004],\n",
       "       [ -841.949 ,  -105.6949],\n",
       "       [ -561.5495,   -86.8108]])"
      ]
     },
     "execution_count": 47,
     "metadata": {},
     "output_type": "execute_result"
    }
   ],
   "source": [
    "#Transform data using eigen vectors\n",
    "result1=np.dot(X,eigv1_1)\n",
    "result1"
   ]
  },
  {
   "cell_type": "code",
   "execution_count": 48,
   "metadata": {},
   "outputs": [
    {
     "data": {
      "text/plain": [
       "<matplotlib.collections.PathCollection at 0x25bdca2b400>"
      ]
     },
     "execution_count": 48,
     "metadata": {},
     "output_type": "execute_result"
    },
    {
     "data": {
      "image/png": "[encoded data removed]",
      "text/plain": [
       "<Figure size 432x288 with 1 Axes>"
      ]
     },
     "metadata": {},
     "output_type": "display_data"
    }
   ],
   "source": [
    "plt.xlabel('PC1')\n",
    "plt.ylabel('PC2')\n",
    "plt.scatter(\n",
    "    result1[:, 0],\n",
    "    result1[:, 1],\n",
    "    c=y,\n",
    "    cmap='rainbow',\n",
    "    alpha=0.7,\n",
    "    edgecolors='b'\n",
    ")"
   ]
  },
  {
   "cell_type": "code",
   "execution_count": null,
   "metadata": {},
   "outputs": [],
   "source": []
  },
  {
   "cell_type": "code",
   "execution_count": null,
   "metadata": {},
   "outputs": [],
   "source": []
  }
 ],
 "metadata": {
  "kernelspec": {
   "display_name": "Python 3",
   "language": "python",
   "name": "python3"
  },
  "language_info": {
   "codemirror_mode": {
    "name": "ipython",
    "version": 3
   },
   "file_extension": ".py",
   "mimetype": "text/x-python",
   "name": "python",
   "nbconvert_exporter": "python",
   "pygments_lexer": "ipython3",
   "version": "3.8.3"
  }
 },
 "nbformat": 4,
 "nbformat_minor": 4
}
